{
 "cells": [
  {
   "cell_type": "code",
   "execution_count": 229,
   "id": "3cec2495-0554-4d40-9da3-ed80e7773f07",
   "metadata": {},
   "outputs": [],
   "source": [
    "import pandas as pd"
   ]
  },
  {
   "cell_type": "code",
   "execution_count": 293,
   "id": "26cea2c0-5f78-49b3-8be7-34cbaeaef2fb",
   "metadata": {},
   "outputs": [],
   "source": [
    "import pandas as pd\n",
    "data=pd.read_csv(\"filtered_data-14.csv\")"
   ]
  },
  {
   "cell_type": "code",
   "execution_count": 294,
   "id": "6884ff78-1fe7-4b26-8d5c-f9f95e289cbf",
   "metadata": {},
   "outputs": [
    {
     "data": {
      "text/html": [
       "<div>\n",
       "<style scoped>\n",
       "    .dataframe tbody tr th:only-of-type {\n",
       "        vertical-align: middle;\n",
       "    }\n",
       "\n",
       "    .dataframe tbody tr th {\n",
       "        vertical-align: top;\n",
       "    }\n",
       "\n",
       "    .dataframe thead th {\n",
       "        text-align: right;\n",
       "    }\n",
       "</style>\n",
       "<table border=\"1\" class=\"dataframe\">\n",
       "  <thead>\n",
       "    <tr style=\"text-align: right;\">\n",
       "      <th></th>\n",
       "      <th>ID</th>\n",
       "      <th>Number</th>\n",
       "      <th>Description</th>\n",
       "      <th>Keywords</th>\n",
       "      <th>Classes</th>\n",
       "    </tr>\n",
       "  </thead>\n",
       "  <tbody>\n",
       "    <tr>\n",
       "      <th>0</th>\n",
       "      <td>699</td>\n",
       "      <td>71988</td>\n",
       "      <td>A man in a wheelchair and another sitting on a...</td>\n",
       "      <td>['man', 'wheelchair', 'another', 'sitting', 'b...</td>\n",
       "      <td>['person', 'object', 'person', 'activity', 'ob...</td>\n",
       "    </tr>\n",
       "    <tr>\n",
       "      <th>1</th>\n",
       "      <td>701</td>\n",
       "      <td>193622</td>\n",
       "      <td>A man sits with a traditionally decorated cow</td>\n",
       "      <td>['man', 'sits', 'traditionally decorated cow']</td>\n",
       "      <td>['person', 'activity', 'animal']</td>\n",
       "    </tr>\n",
       "    <tr>\n",
       "      <th>2</th>\n",
       "      <td>827</td>\n",
       "      <td>52087</td>\n",
       "      <td>A man getting a drink from a water fountain th...</td>\n",
       "      <td>['man', 'getting', 'drink', 'water fountain', ...</td>\n",
       "      <td>['person', 'activity', 'object', 'object', 'lo...</td>\n",
       "    </tr>\n",
       "    <tr>\n",
       "      <th>3</th>\n",
       "      <td>891</td>\n",
       "      <td>119964</td>\n",
       "      <td>A person holding a skateboard overlooks a dead...</td>\n",
       "      <td>['person', 'holding', 'skateboard', 'dead fiel...</td>\n",
       "      <td>['person', 'activity', 'vehicle', 'location']</td>\n",
       "    </tr>\n",
       "    <tr>\n",
       "      <th>4</th>\n",
       "      <td>1221</td>\n",
       "      <td>382406</td>\n",
       "      <td>A woman is walking a dog in the city.</td>\n",
       "      <td>['woman', 'walking', 'dog', 'city']</td>\n",
       "      <td>['person', 'activity', 'animal', 'location']</td>\n",
       "    </tr>\n",
       "    <tr>\n",
       "      <th>5</th>\n",
       "      <td>1373</td>\n",
       "      <td>573223</td>\n",
       "      <td>A little girl in a public bathroom for kids.</td>\n",
       "      <td>['little girl', 'public bathroom for kids']</td>\n",
       "      <td>['person', 'location']</td>\n",
       "    </tr>\n",
       "    <tr>\n",
       "      <th>6</th>\n",
       "      <td>1774</td>\n",
       "      <td>267802</td>\n",
       "      <td>A group of people riding mopeds in a busy street.</td>\n",
       "      <td>['people', 'riding', 'mopeds', 'busy street']</td>\n",
       "      <td>['person', 'activity', 'vehicle', 'location']</td>\n",
       "    </tr>\n",
       "    <tr>\n",
       "      <th>7</th>\n",
       "      <td>1828</td>\n",
       "      <td>208408</td>\n",
       "      <td>A person walking in the rain on the sidewalk.</td>\n",
       "      <td>['person', 'walking', 'rain', 'sidewalk']</td>\n",
       "      <td>['person', 'activity', 'location', 'location']</td>\n",
       "    </tr>\n",
       "    <tr>\n",
       "      <th>8</th>\n",
       "      <td>2099</td>\n",
       "      <td>571970</td>\n",
       "      <td>A man with a bike at a marina</td>\n",
       "      <td>['man', 'bike', 'marina']</td>\n",
       "      <td>['person', 'vehicle', 'location']</td>\n",
       "    </tr>\n",
       "    <tr>\n",
       "      <th>9</th>\n",
       "      <td>2152</td>\n",
       "      <td>133680</td>\n",
       "      <td>A man is sitting on a bench next to a bike.</td>\n",
       "      <td>['man', 'sitting', 'bench', 'bike']</td>\n",
       "      <td>['person', 'activity', 'object', 'vehicle']</td>\n",
       "    </tr>\n",
       "  </tbody>\n",
       "</table>\n",
       "</div>"
      ],
      "text/plain": [
       "     ID  Number                                        Description  \\\n",
       "0   699   71988  A man in a wheelchair and another sitting on a...   \n",
       "1   701  193622      A man sits with a traditionally decorated cow   \n",
       "2   827   52087  A man getting a drink from a water fountain th...   \n",
       "3   891  119964  A person holding a skateboard overlooks a dead...   \n",
       "4  1221  382406              A woman is walking a dog in the city.   \n",
       "5  1373  573223       A little girl in a public bathroom for kids.   \n",
       "6  1774  267802  A group of people riding mopeds in a busy street.   \n",
       "7  1828  208408      A person walking in the rain on the sidewalk.   \n",
       "8  2099  571970                      A man with a bike at a marina   \n",
       "9  2152  133680        A man is sitting on a bench next to a bike.   \n",
       "\n",
       "                                            Keywords  \\\n",
       "0  ['man', 'wheelchair', 'another', 'sitting', 'b...   \n",
       "1     ['man', 'sits', 'traditionally decorated cow']   \n",
       "2  ['man', 'getting', 'drink', 'water fountain', ...   \n",
       "3  ['person', 'holding', 'skateboard', 'dead fiel...   \n",
       "4                ['woman', 'walking', 'dog', 'city']   \n",
       "5        ['little girl', 'public bathroom for kids']   \n",
       "6      ['people', 'riding', 'mopeds', 'busy street']   \n",
       "7          ['person', 'walking', 'rain', 'sidewalk']   \n",
       "8                          ['man', 'bike', 'marina']   \n",
       "9                ['man', 'sitting', 'bench', 'bike']   \n",
       "\n",
       "                                             Classes  \n",
       "0  ['person', 'object', 'person', 'activity', 'ob...  \n",
       "1                   ['person', 'activity', 'animal']  \n",
       "2  ['person', 'activity', 'object', 'object', 'lo...  \n",
       "3      ['person', 'activity', 'vehicle', 'location']  \n",
       "4       ['person', 'activity', 'animal', 'location']  \n",
       "5                             ['person', 'location']  \n",
       "6      ['person', 'activity', 'vehicle', 'location']  \n",
       "7     ['person', 'activity', 'location', 'location']  \n",
       "8                  ['person', 'vehicle', 'location']  \n",
       "9        ['person', 'activity', 'object', 'vehicle']  "
      ]
     },
     "execution_count": 294,
     "metadata": {},
     "output_type": "execute_result"
    }
   ],
   "source": [
    "data.head(10)"
   ]
  },
  {
   "cell_type": "code",
   "execution_count": 295,
   "id": "e26d16fd-8580-4256-89b5-ca9370389cd0",
   "metadata": {},
   "outputs": [
    {
     "data": {
      "text/html": [
       "<div>\n",
       "<style scoped>\n",
       "    .dataframe tbody tr th:only-of-type {\n",
       "        vertical-align: middle;\n",
       "    }\n",
       "\n",
       "    .dataframe tbody tr th {\n",
       "        vertical-align: top;\n",
       "    }\n",
       "\n",
       "    .dataframe thead th {\n",
       "        text-align: right;\n",
       "    }\n",
       "</style>\n",
       "<table border=\"1\" class=\"dataframe\">\n",
       "  <thead>\n",
       "    <tr style=\"text-align: right;\">\n",
       "      <th></th>\n",
       "      <th>ID</th>\n",
       "      <th>Number</th>\n",
       "      <th>Description</th>\n",
       "      <th>Keywords</th>\n",
       "      <th>Classes</th>\n",
       "    </tr>\n",
       "  </thead>\n",
       "  <tbody>\n",
       "    <tr>\n",
       "      <th>1</th>\n",
       "      <td>701</td>\n",
       "      <td>193622</td>\n",
       "      <td>A man sits with a traditionally decorated cow</td>\n",
       "      <td>['man', 'sits', 'traditionally decorated cow']</td>\n",
       "      <td>['person', 'activity', 'animal']</td>\n",
       "    </tr>\n",
       "    <tr>\n",
       "      <th>2</th>\n",
       "      <td>827</td>\n",
       "      <td>52087</td>\n",
       "      <td>A man getting a drink from a water fountain th...</td>\n",
       "      <td>['man', 'getting', 'drink', 'water fountain', ...</td>\n",
       "      <td>['person', 'activity', 'object', 'object', 'lo...</td>\n",
       "    </tr>\n",
       "    <tr>\n",
       "      <th>3</th>\n",
       "      <td>891</td>\n",
       "      <td>119964</td>\n",
       "      <td>A person holding a skateboard overlooks a dead...</td>\n",
       "      <td>['person', 'holding', 'skateboard', 'dead fiel...</td>\n",
       "      <td>['person', 'activity', 'vehicle', 'location']</td>\n",
       "    </tr>\n",
       "    <tr>\n",
       "      <th>4</th>\n",
       "      <td>1221</td>\n",
       "      <td>382406</td>\n",
       "      <td>A woman is walking a dog in the city.</td>\n",
       "      <td>['woman', 'walking', 'dog', 'city']</td>\n",
       "      <td>['person', 'activity', 'animal', 'location']</td>\n",
       "    </tr>\n",
       "    <tr>\n",
       "      <th>5</th>\n",
       "      <td>1373</td>\n",
       "      <td>573223</td>\n",
       "      <td>A little girl in a public bathroom for kids.</td>\n",
       "      <td>['little girl', 'public bathroom for kids']</td>\n",
       "      <td>['person', 'location']</td>\n",
       "    </tr>\n",
       "  </tbody>\n",
       "</table>\n",
       "</div>"
      ],
      "text/plain": [
       "     ID  Number                                        Description  \\\n",
       "1   701  193622      A man sits with a traditionally decorated cow   \n",
       "2   827   52087  A man getting a drink from a water fountain th...   \n",
       "3   891  119964  A person holding a skateboard overlooks a dead...   \n",
       "4  1221  382406              A woman is walking a dog in the city.   \n",
       "5  1373  573223       A little girl in a public bathroom for kids.   \n",
       "\n",
       "                                            Keywords  \\\n",
       "1     ['man', 'sits', 'traditionally decorated cow']   \n",
       "2  ['man', 'getting', 'drink', 'water fountain', ...   \n",
       "3  ['person', 'holding', 'skateboard', 'dead fiel...   \n",
       "4                ['woman', 'walking', 'dog', 'city']   \n",
       "5        ['little girl', 'public bathroom for kids']   \n",
       "\n",
       "                                             Classes  \n",
       "1                   ['person', 'activity', 'animal']  \n",
       "2  ['person', 'activity', 'object', 'object', 'lo...  \n",
       "3      ['person', 'activity', 'vehicle', 'location']  \n",
       "4       ['person', 'activity', 'animal', 'location']  \n",
       "5                             ['person', 'location']  "
      ]
     },
     "execution_count": 295,
     "metadata": {},
     "output_type": "execute_result"
    }
   ],
   "source": [
    "filtered_df = data[data['Classes'].apply(lambda x: x.count('person') == 2)]\n",
    "result_df = data.merge(filtered_df, how='outer', indicator=True).query('_merge==\"left_only\"').drop('_merge', axis=1)\n",
    "result_df.head()"
   ]
  },
  {
   "cell_type": "code",
   "execution_count": 302,
   "id": "0591f757-6413-4985-a81c-0cc77315866f",
   "metadata": {},
   "outputs": [],
   "source": [
    "Keywords=list(result_df['Keywords'])"
   ]
  },
  {
   "cell_type": "code",
   "execution_count": 297,
   "id": "646347ea-22e5-4732-b866-07b551ef6ea6",
   "metadata": {},
   "outputs": [],
   "source": [
    "classes=list(result_df['Classes'])"
   ]
  },
  {
   "cell_type": "code",
   "execution_count": 303,
   "id": "fcf29e0a-3958-4709-8377-0d309e6f3edd",
   "metadata": {},
   "outputs": [],
   "source": [
    "i=0\n",
    "for a in Keywords:\n",
    "    input_list = eval(a)\n",
    "    Keywords[i] = list(input_list)\n",
    "    i+=1"
   ]
  },
  {
   "cell_type": "code",
   "execution_count": 2,
   "id": "712d97b4-a5bb-4e45-9eb2-b4d086979c66",
   "metadata": {},
   "outputs": [],
   "source": [
    "Keywords"
   ]
  },
  {
   "cell_type": "code",
   "execution_count": 310,
   "id": "9d6e85a1-4a55-4fb7-83a7-d08f4d78c37f",
   "metadata": {},
   "outputs": [
    {
     "name": "stdout",
     "output_type": "stream",
     "text": [
      "{'person': 49292, 'activity': 56169, 'object': 51151, 'vehicle': 13986, 'animal': 5196, 'bodypart': 1881, 'location': 28380}\n"
     ]
    }
   ],
   "source": [
    "# Flatten the list of lists\n",
    "flattened_list = [item for sublist in classes for item in sublist]\n",
    "\n",
    "# Count the occurrences of each unique string\n",
    "unique_counts = {item: flattened_list.count(item) for item in set(flattened_list)}\n",
    "\n",
    "print(unique_counts)"
   ]
  },
  {
   "cell_type": "code",
   "execution_count": 311,
   "id": "3152f4e3-c3b3-4909-92da-3269ede38227",
   "metadata": {},
   "outputs": [
    {
     "data": {
      "image/png": "[encoded data removed]",
      "text/plain": [
       "<Figure size 1000x600 with 1 Axes>"
      ]
     },
     "metadata": {},
     "output_type": "display_data"
    }
   ],
   "source": [
    "import matplotlib.pyplot as plt\n",
    "\n",
    "data = unique_counts\n",
    "\n",
    "# Extracting labels and counts from the dictionary\n",
    "labels = list(data.keys())\n",
    "counts = list(data.values())\n",
    "\n",
    "plt.figure(figsize=(10, 6))\n",
    "\n",
    "# Creating the count plot\n",
    "plt.bar(labels, counts, color='skyblue')\n",
    "\n",
    "# Adding labels and title\n",
    "plt.xlabel('Categories')\n",
    "plt.ylabel('Counts')\n",
    "plt.title('Count of Each Category')\n",
    "\n",
    "# Rotating x-axis labels for better readability\n",
    "plt.xticks(rotation=45)\n",
    "\n",
    "# Displaying the plot\n",
    "plt.show()\n"
   ]
  },
  {
   "cell_type": "code",
   "execution_count": 3,
   "id": "5cdcd957",
   "metadata": {},
   "outputs": [],
   "source": [
    "# Initialize lists to store the extracted data\n",
    "import random\n",
    "Generated_descriptions = []\n",
    "Generated_classes = []\n",
    "Generated_keywords = []\n",
    "\n",
    "# Read the text data from the file\n",
    "with open(\"client_NER.txt\", \"r\") as file:\n",
    "    lines = file.readlines()\n",
    "\n",
    "# Initialize variables to temporarily store location and vehicle information\n",
    "current_class = []\n",
    "current_keywords = []\n",
    "\n",
    "# Iterate over each line and extract the information\n",
    "for line in lines:\n",
    "    line = line.strip()\n",
    "    if line:  # Skip empty lines\n",
    "        parts = line.split(\": \")\n",
    "        if len(parts) == 2:\n",
    "            key, value = parts\n",
    "            values=value.split(\", \")\n",
    "            for value in values:\n",
    "                if key == \"location\":\n",
    "                    current_class.append(key)\n",
    "                    current_keywords.append(value)\n",
    "                elif key == \"vehicle\":\n",
    "                    current_class.append(key)\n",
    "                    current_keywords.append(value)\n",
    "                elif key == \"activity\" and random.randint(0,1)==0:\n",
    "                    current_class.append(key)\n",
    "                    current_keywords.append(value)\n",
    "                elif key == \"person\" and random.randint(0,1)==0:\n",
    "                    current_class.append(key)\n",
    "                    current_keywords.append(value)\n",
    "                elif key == \"animal\":\n",
    "                    current_class.append(key)\n",
    "                    current_keywords.append(value)\n",
    "                elif key == \"object\"  and random.randint(0,1)==0:\n",
    "                    current_class.append(key)\n",
    "                    current_keywords.append(value)\n",
    "                elif key == \"bodypart\":\n",
    "                    current_class.append(key)\n",
    "                    current_keywords.append(value)\n",
    "                else:\n",
    "                    continue\n",
    "        else:\n",
    "            Generated_descriptions.append(line)\n",
    "            if current_class:\n",
    "                Generated_classes.append(current_class)\n",
    "                current_class = []\n",
    "            if current_keywords:\n",
    "                Generated_keywords.append(current_keywords)\n",
    "                current_keywords = []\n",
    "\n",
    "# Append the last class and keywords\n",
    "if current_class:\n",
    "    Generated_classes.append(current_class)\n",
    "if current_keywords:\n",
    "    Generated_keywords.append(current_keywords)\n",
    "\n",
    "for a in range(len(Generated_keywords)):\n",
    "    class_data=Generated_classes[a]\n",
    "    index_data=Generated_keywords[a]\n",
    "    Generated_keywords[a] = [entry for idx, entry in enumerate(index_data) if 'none' not in entry]\n",
    "    removed_indexes = [idx for idx, entry in enumerate(index_data) if 'none' in entry]\n",
    "    count=0\n",
    "    for a in removed_indexes:\n",
    "        del class_data[a-count]\n",
    "        count+=1\n",
    "        print(class_data)"
   ]
  },
  {
   "cell_type": "code",
   "execution_count": 307,
   "id": "1455b424-ee78-4552-b574-bb2cc51cc597",
   "metadata": {},
   "outputs": [
    {
     "name": "stdout",
     "output_type": "stream",
     "text": [
      "Number of descriptions: 6797\n",
      "Number of classes: 6797\n",
      "Number of keywords: 6797\n"
     ]
    }
   ],
   "source": [
    "print(\"Number of descriptions:\", len(Generated_descriptions))\n",
    "print(\"Number of classes:\", len(Generated_classes))\n",
    "print(\"Number of keywords:\", len(Generated_keywords))"
   ]
  },
  {
   "cell_type": "code",
   "execution_count": 309,
   "id": "1e4f61ef-172b-4015-bcbf-bfb7f9b983ec",
   "metadata": {},
   "outputs": [
    {
     "name": "stdout",
     "output_type": "stream",
     "text": [
      "Plush elephant carrying hat in shopping mall.\n",
      "['location', 'animal', 'activity', 'object']\n",
      "['shopping mall', 'elephant', 'carrying', 'plush']\n"
     ]
    }
   ],
   "source": [
    "i=5000\n",
    "print(Generated_descriptions[i])\n",
    "print(Generated_classes[i])\n",
    "print(Generated_keywords[i])"
   ]
  },
  {
   "cell_type": "code",
   "execution_count": 324,
   "id": "5aa051f3-de94-44a5-bb23-2fe0d68bbbbb",
   "metadata": {},
   "outputs": [],
   "source": [
    "final_description=Generated_descriptions+description_list\n",
    "final_classes=Generated_classes+classes\n",
    "final_keywords=Generated_keywords+Keywords"
   ]
  },
  {
   "cell_type": "code",
   "execution_count": 321,
   "id": "5dec4218-a81e-48a7-867d-a508f5a83e74",
   "metadata": {},
   "outputs": [],
   "source": [
    "description_list=list()\n",
    "for a in result_df['Description']:\n",
    "    description_list.append(a)"
   ]
  },
  {
   "cell_type": "code",
   "execution_count": 327,
   "id": "b39a4e94-77b5-4120-a06e-356af6544952",
   "metadata": {},
   "outputs": [],
   "source": [
    "import pandas as pd\n",
    "data=pd.DataFrame({\"Description\":final_description,\"Keywords\":final_keywords,\"Classes\":final_classes})\n",
    "data.to_csv(\"Final_File.csv\")"
   ]
  },
  {
   "cell_type": "code",
   "execution_count": 328,
   "id": "6f18562a-3483-456b-99be-80e418399c71",
   "metadata": {},
   "outputs": [
    {
     "name": "stdout",
     "output_type": "stream",
     "text": [
      "{'person': 49973, 'activity': 59254, 'object': 53980, 'vehicle': 16618, 'bodypart': 2879, 'animal': 7892, 'location': 34902}\n"
     ]
    }
   ],
   "source": [
    "# Flatten the list of lists\n",
    "flattened_list = [item for sublist in final_classes for item in sublist]\n",
    "\n",
    "# Count the occurrences of each unique string\n",
    "unique_counts = {item: flattened_list.count(item) for item in set(flattened_list)}\n",
    "\n",
    "print(unique_counts)"
   ]
  },
  {
   "cell_type": "code",
   "execution_count": 329,
   "id": "0b02b1d6-c353-4314-9997-fc59245b8a39",
   "metadata": {},
   "outputs": [
    {
     "data": {
      "image/png": "[encoded data removed]",
      "text/plain": [
       "<Figure size 1000x600 with 1 Axes>"
      ]
     },
     "metadata": {},
     "output_type": "display_data"
    }
   ],
   "source": [
    "import matplotlib.pyplot as plt\n",
    "\n",
    "data = unique_counts\n",
    "\n",
    "# Extracting labels and counts from the dictionary\n",
    "labels = list(data.keys())\n",
    "counts = list(data.values())\n",
    "\n",
    "plt.figure(figsize=(10, 6))\n",
    "\n",
    "# Creating the count plot\n",
    "plt.bar(labels, counts, color='skyblue')\n",
    "\n",
    "# Adding labels and title\n",
    "plt.xlabel('Categories')\n",
    "plt.ylabel('Counts')\n",
    "plt.title('Count of Each Category')\n",
    "\n",
    "# Rotating x-axis labels for better readability\n",
    "plt.xticks(rotation=45)\n",
    "\n",
    "# Displaying the plot\n",
    "plt.show()\n"
   ]
  },
  {
   "cell_type": "code",
   "execution_count": 331,
   "id": "f5d0f7b6-fc0c-4482-8c68-ea2f749cb9e4",
   "metadata": {},
   "outputs": [
    {
     "name": "stdout",
     "output_type": "stream",
     "text": [
      "person_to_activity: 118.57%\n",
      "person_to_object: 108.02%\n",
      "person_to_vehicle: 33.25%\n",
      "person_to_bodypart: 5.76%\n",
      "person_to_animal: 15.79%\n",
      "person_to_location: 69.84%\n",
      "activity_to_object: 91.10%\n",
      "activity_to_vehicle: 28.05%\n",
      "activity_to_bodypart: 4.86%\n",
      "activity_to_animal: 13.32%\n",
      "activity_to_location: 58.90%\n",
      "object_to_vehicle: 30.79%\n",
      "object_to_bodypart: 5.33%\n",
      "object_to_animal: 14.62%\n",
      "object_to_location: 64.66%\n",
      "vehicle_to_bodypart: 17.32%\n",
      "vehicle_to_animal: 47.49%\n",
      "vehicle_to_location: 210.03%\n",
      "bodypart_to_animal: 274.12%\n",
      "bodypart_to_location: 1212.30%\n",
      "animal_to_location: 442.25%\n"
     ]
    }
   ],
   "source": [
    "from itertools import combinations\n",
    "\n",
    "data = {'person': 49973, 'activity': 59254, 'object': 53980, 'vehicle': 16618, 'bodypart': 2879, 'animal': 7892, 'location': 34902}\n",
    "\n",
    "# Calculate the percentage relationship between every pair of categories\n",
    "relationships = {}\n",
    "for category1, category2 in combinations(data.keys(), 2):\n",
    "    relationship_key = f\"{category1}_to_{category2}\"\n",
    "    relationship_value = (data[category2] / data[category1]) * 100\n",
    "    relationships[relationship_key] = relationship_value\n",
    "\n",
    "# Show the percentage relationships\n",
    "for relationship, percentage in relationships.items():\n",
    "    print(f\"{relationship}: {percentage:.2f}%\")\n"
   ]
  },
  {
   "cell_type": "code",
   "execution_count": null,
   "id": "f62364ed-8626-4220-afd1-abba8c88e3ae",
   "metadata": {},
   "outputs": [],
   "source": []
  },
  {
   "cell_type": "code",
   "execution_count": null,
   "id": "51ab2acd-b535-4bc0-9241-5cbe74d3ddde",
   "metadata": {},
   "outputs": [],
   "source": []
  }
 ],
 "metadata": {
  "kernelspec": {
   "display_name": "Python 3 (ipykernel)",
   "language": "python",
   "name": "python3"
  },
  "language_info": {
   "codemirror_mode": {
    "name": "ipython",
    "version": 3
   },
   "file_extension": ".py",
   "mimetype": "text/x-python",
   "name": "python",
   "nbconvert_exporter": "python",
   "pygments_lexer": "ipython3",
   "version": "3.11.5"
  }
 },
 "nbformat": 4,
 "nbformat_minor": 5
}
